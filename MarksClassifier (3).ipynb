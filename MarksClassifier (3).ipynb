{
 "cells": [
  {
   "cell_type": "code",
   "execution_count": 3,
   "id": "eb603718",
   "metadata": {},
   "outputs": [],
   "source": [
    "import csv\n",
    "import math\n",
    "import time\n",
    "import os.path\n",
    "import datetime\n",
    "import collections\n",
    "import pandas as pd\n",
    "import numpy as np\n",
    "import scipy as sci\n",
    "from sklearn import svm\n",
    "from scipy import signal\n",
    "import seaborn as sns\n",
    "import matplotlib.pyplot as plt\n",
    "import scipy.stats as stats\n",
    "from collections import OrderedDict\n",
    "from sklearn.preprocessing import StandardScaler\n",
    "from sklearn.neighbors import KNeighborsClassifier\n",
    "from sklearn.model_selection import cross_val_score\n",
    "from scipy.interpolate import UnivariateSpline\n",
    "from sklearn.linear_model import LogisticRegression\n",
    "from sklearn.metrics import roc_curve\n",
    "from sklearn.model_selection import train_test_split\n",
    "from sklearn.tree import DecisionTreeClassifier"
   ]
  },
  {
   "cell_type": "markdown",
   "id": "2b47dd62",
   "metadata": {},
   "source": [
    "# Training and Implementation"
   ]
  },
  {
   "cell_type": "code",
   "execution_count": 4,
   "id": "41f69153",
   "metadata": {},
   "outputs": [],
   "source": [
    "def get_data_vector_numpy(student_id, exam_id, feature_list=None):\n",
    "    processed_input_file = f\"E:\\Research\\Capstone-smartwatch stress detector\\processed_datatset\\merged{student_id}{exam_id}.csv\"\n",
    "    df = pd.read_csv(processed_input_file)\n",
    "    if feature_list is None:\n",
    "        feature_list = ['HRV', 'EDA', 'TEMP']\n",
    "    \n",
    "    feature_super_vector = []\n",
    "    for feature in feature_list:     \n",
    "        feature_col = df[feature].tolist() \n",
    "        feature_col_norm =stats.zscore(feature_col)\n",
    "        #feature_vec = [np.max(feature_col), np.min(feature_col), np.mean(feature_col), np.median(feature_col), np.std(feature_col)]\n",
    "        feature_vec = [np.max(feature_col_norm),np.average(feature_col_norm), np.min(feature_col_norm), np.mean(feature_col_norm), np.median(feature_col_norm), np.std(feature_col_norm),np.var(feature_col_norm)]\n",
    "        feature_super_vector += feature_vec\n",
    "    #print(feature_super_vector)\n",
    "    #print(feature_col)\n",
    "    return np.asarray(feature_super_vector)"
   ]
  },
  {
   "cell_type": "code",
   "execution_count": 5,
   "id": "67ca817c",
   "metadata": {},
   "outputs": [
    {
     "data": {
      "text/plain": [
       "array([-0.17971713, -1.72270312, -1.16216164, ...,  0.97637088,\n",
       "        0.87043453,  0.76541936])"
      ]
     },
     "execution_count": 5,
     "metadata": {},
     "output_type": "execute_result"
    }
   ],
   "source": [
    "df = pd.read_csv(\"E:\\Research\\Capstone-smartwatch stress detector\\processed_datatset\\mergedS2Final.csv\")\n",
    "a = df['HRV'].tolist()\n",
    "feature_col_nor =stats.zscore(a)\n",
    "feature_col_nor"
   ]
  },
  {
   "cell_type": "code",
   "execution_count": 80,
   "id": "f208f94e",
   "metadata": {},
   "outputs": [
    {
     "data": {
      "text/plain": [
       "<bound method DataFrame.info of           ID            Timestamp      Hour     HRV       EDA         BVP  \\\n",
       "0      Final  2018-12-05 18:29:14  18:29:14  116.00  0.019860    0.160937   \n",
       "1      Final  2018-12-05 18:29:15  18:29:15   82.50  0.018900   -7.858906   \n",
       "2      Final  2018-12-05 18:29:16  18:29:16   94.67  0.019540   13.248594   \n",
       "3      Final  2018-12-05 18:29:17  18:29:17   91.50  0.019220  -98.349375   \n",
       "4      Final  2018-12-05 18:29:18  18:29:18   88.20  0.019860  115.572031   \n",
       "...      ...                  ...       ...     ...       ...         ...   \n",
       "25322  Final  2018-12-06 01:31:16  01:31:16  145.78  0.014735    2.781406   \n",
       "25323  Final  2018-12-06 01:31:17  01:31:17  143.43  0.016016   23.250313   \n",
       "25324  Final  2018-12-06 01:31:18  01:31:18  141.10  0.016337  -27.202500   \n",
       "25325  Final  2018-12-06 01:31:19  01:31:19  138.80  0.015376   -3.726719   \n",
       "25326  Final  2018-12-06 01:31:20  01:31:20  136.52  0.016016    0.735600   \n",
       "\n",
       "        TEMP         ACC_X     ACC_Y     ACC_Z  ACC_Overall  SumIBI  Beats  \n",
       "0      22.71 -6.938894e-18  0.000001 -0.000231     0.002486     0.0      0  \n",
       "1      22.73 -4.538648e-02  0.066372  0.047812     0.474493     0.0      0  \n",
       "2      22.71 -2.288077e-02 -0.038732 -0.099592     0.240968     0.0      0  \n",
       "3      23.77 -2.800955e-03 -0.001241  0.000610     0.044790     0.0      0  \n",
       "4      22.97 -1.415624e-02  0.035875 -0.030949     0.181187     0.0      0  \n",
       "...      ...           ...       ...       ...          ...     ...    ...  \n",
       "25322  23.13  5.592307e-03 -0.013813  0.013324     0.098452     0.0      0  \n",
       "25323  23.15 -5.482505e-02 -0.033795  0.070573     0.197692     0.0      0  \n",
       "25324  23.15  2.705388e-02  0.014197 -0.016439     0.228465     0.0      0  \n",
       "25325  23.15  2.852016e-02 -0.012648 -0.050475     0.095124     0.0      0  \n",
       "25326  23.15  7.595610e-04 -0.002822 -0.003854     0.050839     0.0      0  \n",
       "\n",
       "[25327 rows x 13 columns]>"
      ]
     },
     "execution_count": 80,
     "metadata": {},
     "output_type": "execute_result"
    }
   ],
   "source": [
    "df.info"
   ]
  },
  {
   "cell_type": "code",
   "execution_count": 81,
   "id": "f525692e",
   "metadata": {},
   "outputs": [
    {
     "data": {
      "text/html": [
       "<div>\n",
       "<style scoped>\n",
       "    .dataframe tbody tr th:only-of-type {\n",
       "        vertical-align: middle;\n",
       "    }\n",
       "\n",
       "    .dataframe tbody tr th {\n",
       "        vertical-align: top;\n",
       "    }\n",
       "\n",
       "    .dataframe thead th {\n",
       "        text-align: right;\n",
       "    }\n",
       "</style>\n",
       "<table border=\"1\" class=\"dataframe\">\n",
       "  <thead>\n",
       "    <tr style=\"text-align: right;\">\n",
       "      <th></th>\n",
       "      <th>HRV</th>\n",
       "      <th>EDA</th>\n",
       "      <th>BVP</th>\n",
       "      <th>TEMP</th>\n",
       "      <th>ACC_X</th>\n",
       "      <th>ACC_Y</th>\n",
       "      <th>ACC_Z</th>\n",
       "      <th>ACC_Overall</th>\n",
       "      <th>SumIBI</th>\n",
       "      <th>Beats</th>\n",
       "    </tr>\n",
       "  </thead>\n",
       "  <tbody>\n",
       "    <tr>\n",
       "      <th>count</th>\n",
       "      <td>25327.000000</td>\n",
       "      <td>25327.000000</td>\n",
       "      <td>25327.000000</td>\n",
       "      <td>25327.000000</td>\n",
       "      <td>25327.000000</td>\n",
       "      <td>2.532700e+04</td>\n",
       "      <td>2.532700e+04</td>\n",
       "      <td>2.532700e+04</td>\n",
       "      <td>25327.000000</td>\n",
       "      <td>25327.000000</td>\n",
       "    </tr>\n",
       "    <tr>\n",
       "      <th>mean</th>\n",
       "      <td>119.901866</td>\n",
       "      <td>0.078319</td>\n",
       "      <td>0.000329</td>\n",
       "      <td>28.184036</td>\n",
       "      <td>0.000005</td>\n",
       "      <td>4.623243e-06</td>\n",
       "      <td>4.596850e-07</td>\n",
       "      <td>3.022923e-02</td>\n",
       "      <td>0.206191</td>\n",
       "      <td>0.364433</td>\n",
       "    </tr>\n",
       "    <tr>\n",
       "      <th>std</th>\n",
       "      <td>21.711578</td>\n",
       "      <td>0.095918</td>\n",
       "      <td>22.730315</td>\n",
       "      <td>6.145280</td>\n",
       "      <td>0.011175</td>\n",
       "      <td>1.108168e-02</td>\n",
       "      <td>1.582643e-02</td>\n",
       "      <td>6.771483e-02</td>\n",
       "      <td>0.426818</td>\n",
       "      <td>0.755989</td>\n",
       "    </tr>\n",
       "    <tr>\n",
       "      <th>min</th>\n",
       "      <td>69.800000</td>\n",
       "      <td>0.008329</td>\n",
       "      <td>-338.954844</td>\n",
       "      <td>17.990000</td>\n",
       "      <td>-0.245143</td>\n",
       "      <td>-2.120153e-01</td>\n",
       "      <td>-2.236816e-01</td>\n",
       "      <td>2.220717e-16</td>\n",
       "      <td>0.000000</td>\n",
       "      <td>0.000000</td>\n",
       "    </tr>\n",
       "    <tr>\n",
       "      <th>25%</th>\n",
       "      <td>105.380000</td>\n",
       "      <td>0.015056</td>\n",
       "      <td>-0.717344</td>\n",
       "      <td>23.010000</td>\n",
       "      <td>-0.000207</td>\n",
       "      <td>-1.937834e-04</td>\n",
       "      <td>-3.234017e-04</td>\n",
       "      <td>2.743570e-03</td>\n",
       "      <td>0.000000</td>\n",
       "      <td>0.000000</td>\n",
       "    </tr>\n",
       "    <tr>\n",
       "      <th>50%</th>\n",
       "      <td>114.950000</td>\n",
       "      <td>0.016337</td>\n",
       "      <td>0.000156</td>\n",
       "      <td>23.770000</td>\n",
       "      <td>0.000000</td>\n",
       "      <td>6.938894e-18</td>\n",
       "      <td>-5.551115e-17</td>\n",
       "      <td>7.891698e-03</td>\n",
       "      <td>0.000000</td>\n",
       "      <td>0.000000</td>\n",
       "    </tr>\n",
       "    <tr>\n",
       "      <th>75%</th>\n",
       "      <td>134.380000</td>\n",
       "      <td>0.122634</td>\n",
       "      <td>0.619453</td>\n",
       "      <td>35.650000</td>\n",
       "      <td>0.000218</td>\n",
       "      <td>1.613641e-04</td>\n",
       "      <td>3.234712e-04</td>\n",
       "      <td>1.477765e-02</td>\n",
       "      <td>0.000000</td>\n",
       "      <td>0.000000</td>\n",
       "    </tr>\n",
       "    <tr>\n",
       "      <th>max</th>\n",
       "      <td>201.670000</td>\n",
       "      <td>0.718453</td>\n",
       "      <td>320.470156</td>\n",
       "      <td>36.070000</td>\n",
       "      <td>0.210980</td>\n",
       "      <td>2.151978e-01</td>\n",
       "      <td>2.289399e-01</td>\n",
       "      <td>9.861466e-01</td>\n",
       "      <td>1.703203</td>\n",
       "      <td>3.000000</td>\n",
       "    </tr>\n",
       "  </tbody>\n",
       "</table>\n",
       "</div>"
      ],
      "text/plain": [
       "                HRV           EDA           BVP          TEMP         ACC_X  \\\n",
       "count  25327.000000  25327.000000  25327.000000  25327.000000  25327.000000   \n",
       "mean     119.901866      0.078319      0.000329     28.184036      0.000005   \n",
       "std       21.711578      0.095918     22.730315      6.145280      0.011175   \n",
       "min       69.800000      0.008329   -338.954844     17.990000     -0.245143   \n",
       "25%      105.380000      0.015056     -0.717344     23.010000     -0.000207   \n",
       "50%      114.950000      0.016337      0.000156     23.770000      0.000000   \n",
       "75%      134.380000      0.122634      0.619453     35.650000      0.000218   \n",
       "max      201.670000      0.718453    320.470156     36.070000      0.210980   \n",
       "\n",
       "              ACC_Y         ACC_Z   ACC_Overall        SumIBI         Beats  \n",
       "count  2.532700e+04  2.532700e+04  2.532700e+04  25327.000000  25327.000000  \n",
       "mean   4.623243e-06  4.596850e-07  3.022923e-02      0.206191      0.364433  \n",
       "std    1.108168e-02  1.582643e-02  6.771483e-02      0.426818      0.755989  \n",
       "min   -2.120153e-01 -2.236816e-01  2.220717e-16      0.000000      0.000000  \n",
       "25%   -1.937834e-04 -3.234017e-04  2.743570e-03      0.000000      0.000000  \n",
       "50%    6.938894e-18 -5.551115e-17  7.891698e-03      0.000000      0.000000  \n",
       "75%    1.613641e-04  3.234712e-04  1.477765e-02      0.000000      0.000000  \n",
       "max    2.151978e-01  2.289399e-01  9.861466e-01      1.703203      3.000000  "
      ]
     },
     "execution_count": 81,
     "metadata": {},
     "output_type": "execute_result"
    }
   ],
   "source": [
    "df.describe()"
   ]
  },
  {
   "cell_type": "code",
   "execution_count": 6,
   "id": "2575cbd8",
   "metadata": {},
   "outputs": [
    {
     "data": {
      "text/html": [
       "<div>\n",
       "<style scoped>\n",
       "    .dataframe tbody tr th:only-of-type {\n",
       "        vertical-align: middle;\n",
       "    }\n",
       "\n",
       "    .dataframe tbody tr th {\n",
       "        vertical-align: top;\n",
       "    }\n",
       "\n",
       "    .dataframe thead th {\n",
       "        text-align: right;\n",
       "    }\n",
       "</style>\n",
       "<table border=\"1\" class=\"dataframe\">\n",
       "  <thead>\n",
       "    <tr style=\"text-align: right;\">\n",
       "      <th></th>\n",
       "      <th>HRV</th>\n",
       "      <th>EDA</th>\n",
       "      <th>BVP</th>\n",
       "      <th>TEMP</th>\n",
       "      <th>ACC_X</th>\n",
       "      <th>ACC_Y</th>\n",
       "      <th>ACC_Z</th>\n",
       "      <th>ACC_Overall</th>\n",
       "      <th>SumIBI</th>\n",
       "      <th>Beats</th>\n",
       "    </tr>\n",
       "  </thead>\n",
       "  <tbody>\n",
       "    <tr>\n",
       "      <th>HRV</th>\n",
       "      <td>1.000000</td>\n",
       "      <td>-0.462424</td>\n",
       "      <td>-0.000033</td>\n",
       "      <td>-0.559266</td>\n",
       "      <td>0.001268</td>\n",
       "      <td>0.000700</td>\n",
       "      <td>0.000166</td>\n",
       "      <td>-0.272211</td>\n",
       "      <td>-0.327942</td>\n",
       "      <td>-0.324322</td>\n",
       "    </tr>\n",
       "    <tr>\n",
       "      <th>EDA</th>\n",
       "      <td>-0.462424</td>\n",
       "      <td>1.000000</td>\n",
       "      <td>-0.000538</td>\n",
       "      <td>0.656389</td>\n",
       "      <td>-0.001059</td>\n",
       "      <td>0.000806</td>\n",
       "      <td>-0.000279</td>\n",
       "      <td>0.344416</td>\n",
       "      <td>0.294274</td>\n",
       "      <td>0.288557</td>\n",
       "    </tr>\n",
       "    <tr>\n",
       "      <th>BVP</th>\n",
       "      <td>-0.000033</td>\n",
       "      <td>-0.000538</td>\n",
       "      <td>1.000000</td>\n",
       "      <td>-0.000201</td>\n",
       "      <td>-0.029866</td>\n",
       "      <td>0.026260</td>\n",
       "      <td>-0.001246</td>\n",
       "      <td>-0.008155</td>\n",
       "      <td>0.004934</td>\n",
       "      <td>0.007390</td>\n",
       "    </tr>\n",
       "    <tr>\n",
       "      <th>TEMP</th>\n",
       "      <td>-0.559266</td>\n",
       "      <td>0.656389</td>\n",
       "      <td>-0.000201</td>\n",
       "      <td>1.000000</td>\n",
       "      <td>-0.000400</td>\n",
       "      <td>0.000469</td>\n",
       "      <td>-0.000006</td>\n",
       "      <td>0.151320</td>\n",
       "      <td>0.500626</td>\n",
       "      <td>0.493511</td>\n",
       "    </tr>\n",
       "    <tr>\n",
       "      <th>ACC_X</th>\n",
       "      <td>0.001268</td>\n",
       "      <td>-0.001059</td>\n",
       "      <td>-0.029866</td>\n",
       "      <td>-0.000400</td>\n",
       "      <td>1.000000</td>\n",
       "      <td>-0.214889</td>\n",
       "      <td>0.230334</td>\n",
       "      <td>0.007008</td>\n",
       "      <td>0.006181</td>\n",
       "      <td>0.006488</td>\n",
       "    </tr>\n",
       "    <tr>\n",
       "      <th>ACC_Y</th>\n",
       "      <td>0.000700</td>\n",
       "      <td>0.000806</td>\n",
       "      <td>0.026260</td>\n",
       "      <td>0.000469</td>\n",
       "      <td>-0.214889</td>\n",
       "      <td>1.000000</td>\n",
       "      <td>0.255962</td>\n",
       "      <td>0.022301</td>\n",
       "      <td>0.000702</td>\n",
       "      <td>0.000467</td>\n",
       "    </tr>\n",
       "    <tr>\n",
       "      <th>ACC_Z</th>\n",
       "      <td>0.000166</td>\n",
       "      <td>-0.000279</td>\n",
       "      <td>-0.001246</td>\n",
       "      <td>-0.000006</td>\n",
       "      <td>0.230334</td>\n",
       "      <td>0.255962</td>\n",
       "      <td>1.000000</td>\n",
       "      <td>-0.018008</td>\n",
       "      <td>0.005104</td>\n",
       "      <td>0.005444</td>\n",
       "    </tr>\n",
       "    <tr>\n",
       "      <th>ACC_Overall</th>\n",
       "      <td>-0.272211</td>\n",
       "      <td>0.344416</td>\n",
       "      <td>-0.008155</td>\n",
       "      <td>0.151320</td>\n",
       "      <td>0.007008</td>\n",
       "      <td>0.022301</td>\n",
       "      <td>-0.018008</td>\n",
       "      <td>1.000000</td>\n",
       "      <td>-0.068750</td>\n",
       "      <td>-0.062185</td>\n",
       "    </tr>\n",
       "    <tr>\n",
       "      <th>SumIBI</th>\n",
       "      <td>-0.327942</td>\n",
       "      <td>0.294274</td>\n",
       "      <td>0.004934</td>\n",
       "      <td>0.500626</td>\n",
       "      <td>0.006181</td>\n",
       "      <td>0.000702</td>\n",
       "      <td>0.005104</td>\n",
       "      <td>-0.068750</td>\n",
       "      <td>1.000000</td>\n",
       "      <td>0.995071</td>\n",
       "    </tr>\n",
       "    <tr>\n",
       "      <th>Beats</th>\n",
       "      <td>-0.324322</td>\n",
       "      <td>0.288557</td>\n",
       "      <td>0.007390</td>\n",
       "      <td>0.493511</td>\n",
       "      <td>0.006488</td>\n",
       "      <td>0.000467</td>\n",
       "      <td>0.005444</td>\n",
       "      <td>-0.062185</td>\n",
       "      <td>0.995071</td>\n",
       "      <td>1.000000</td>\n",
       "    </tr>\n",
       "  </tbody>\n",
       "</table>\n",
       "</div>"
      ],
      "text/plain": [
       "                  HRV       EDA       BVP      TEMP     ACC_X     ACC_Y  \\\n",
       "HRV          1.000000 -0.462424 -0.000033 -0.559266  0.001268  0.000700   \n",
       "EDA         -0.462424  1.000000 -0.000538  0.656389 -0.001059  0.000806   \n",
       "BVP         -0.000033 -0.000538  1.000000 -0.000201 -0.029866  0.026260   \n",
       "TEMP        -0.559266  0.656389 -0.000201  1.000000 -0.000400  0.000469   \n",
       "ACC_X        0.001268 -0.001059 -0.029866 -0.000400  1.000000 -0.214889   \n",
       "ACC_Y        0.000700  0.000806  0.026260  0.000469 -0.214889  1.000000   \n",
       "ACC_Z        0.000166 -0.000279 -0.001246 -0.000006  0.230334  0.255962   \n",
       "ACC_Overall -0.272211  0.344416 -0.008155  0.151320  0.007008  0.022301   \n",
       "SumIBI      -0.327942  0.294274  0.004934  0.500626  0.006181  0.000702   \n",
       "Beats       -0.324322  0.288557  0.007390  0.493511  0.006488  0.000467   \n",
       "\n",
       "                ACC_Z  ACC_Overall    SumIBI     Beats  \n",
       "HRV          0.000166    -0.272211 -0.327942 -0.324322  \n",
       "EDA         -0.000279     0.344416  0.294274  0.288557  \n",
       "BVP         -0.001246    -0.008155  0.004934  0.007390  \n",
       "TEMP        -0.000006     0.151320  0.500626  0.493511  \n",
       "ACC_X        0.230334     0.007008  0.006181  0.006488  \n",
       "ACC_Y        0.255962     0.022301  0.000702  0.000467  \n",
       "ACC_Z        1.000000    -0.018008  0.005104  0.005444  \n",
       "ACC_Overall -0.018008     1.000000 -0.068750 -0.062185  \n",
       "SumIBI       0.005104    -0.068750  1.000000  0.995071  \n",
       "Beats        0.005444    -0.062185  0.995071  1.000000  "
      ]
     },
     "execution_count": 6,
     "metadata": {},
     "output_type": "execute_result"
    }
   ],
   "source": [
    "df.corr()"
   ]
  },
  {
   "cell_type": "code",
   "execution_count": 79,
   "id": "6dec8d9f",
   "metadata": {},
   "outputs": [
    {
     "data": {
      "text/plain": [
       "array([ 2.41982734e+00,  1.16666700e-16, -1.23524626e+00,  1.16666700e-16,\n",
       "       -9.08557972e-01,  1.00000000e+00,  1.00000000e+00,  2.40306435e+01,\n",
       "       -5.44501565e-18, -1.89032165e+01, -5.44501565e-18,  2.39771730e-05,\n",
       "        1.00000000e+00,  1.00000000e+00,  1.30508991e+00,  0.00000000e+00,\n",
       "       -2.33709432e+00,  0.00000000e+00, -5.39382846e-01,  1.00000000e+00,\n",
       "        1.00000000e+00,  1.19963538e+01,  4.13954110e-18, -1.29222230e+01,\n",
       "        4.13954110e-18,  4.66193632e-05,  1.00000000e+00,  1.00000000e+00,\n",
       "        1.80160505e+01,  3.26605995e-18, -1.38793085e+01,  3.26605995e-18,\n",
       "        1.20623813e-04,  1.00000000e+00,  1.00000000e+00])"
      ]
     },
     "execution_count": 79,
     "metadata": {},
     "output_type": "execute_result"
    }
   ],
   "source": [
    "get_data_vector_numpy('S1', 'Final',feature_list= ['EDA', 'BVP', 'TEMP', 'ACC_X','ACC_Y'])"
   ]
  },
  {
   "cell_type": "markdown",
   "id": "821d4bf6",
   "metadata": {},
   "source": [
    "#remove df beyond exam timeframe - ignore\n",
    "def normalize(values):\n",
    "    return (values - values.min())/(values.max() - values.min())\n",
    "\n",
    "def remove_exam_end(student_id, exam_id):\n",
    "    processed_input_file = f\"E:\\Research\\Capstone-smartwatch stress detector\\processed_datatset\\merged{student_id}{exam_id}.csv\"\n",
    "    df = pd.read_csv(processed_input_file)\n",
    "    if exam_id == 'Final':\n",
    "        exend = df[ (df['Hour'] >= '22:10:00')].index\n",
    "        df.drop(exend, inplace=True)\n",
    "        #print(df.shape)\n",
    "        #plt.plot(df[\"EDA\"])                     \n",
    "        #plt.show() \n",
    "    if exam_id == 'Midterm 1':\n",
    "        exend = df[ (df['Hour'] >= '17:40:00')].index\n",
    "        df.drop(exend, inplace=True)\n",
    "    if exam_id == 'Midterm 2':\n",
    "        exend = df[ (df['Hour'] >= '18:40:00')].index\n",
    "        df.drop(exend, inplace=True)\n",
    "     "
   ]
  },
  {
   "cell_type": "markdown",
   "id": "75c75778",
   "metadata": {},
   "source": [
    "# Training Classiffiers "
   ]
  },
  {
   "cell_type": "code",
   "execution_count": 51,
   "id": "a116dd4e",
   "metadata": {},
   "outputs": [],
   "source": [
    "def get_training_and_test_data(feature_list=None, threshold=89):\n",
    "    student_ids = [f\"S{x}\" for x in range(1, 11)]\n",
    "    exam_ids = ['Midterm 1', 'Midterm 2', 'Final']\n",
    "    data_y_all = pd.read_csv(r'E:\\Research\\Capstone-smartwatch stress detector\\Dataset\\ds\\a-wearable-exam-stress-dataset-for-predicting-cognitive-performance-in-real-world-settings-1.0.0\\StudentGrades.csv')\n",
    "    list_data_x = []\n",
    "    list_data_y = []\n",
    "    for student_id in student_ids:\n",
    "        for exam_id in exam_ids:\n",
    "            #remove_exam_end(student_id, exam_id)\n",
    "            #print(f'{student_id} {exam_id}')\n",
    "            #'HRV', 'EDA', 'BVP', 'TEMP', 'ACC_X','ACC_Y', 'ACC_Z', 'ACC_Overall', 'SumIBI', 'Beats'\n",
    "            # 1 - 'HRV','EDA','ACC_X','ACC_Y', 'ACC_Z'\n",
    "            data_i = get_data_vector_numpy(student_id, exam_id, feature_list=['HRV','EDA','ACC_X','ACC_Y', 'ACC_Z'])\n",
    "            list_data_x.append(data_i)\n",
    "            y_val = 1 if data_y_all.loc[(data_y_all['student_id'] == student_id) & (data_y_all['exam_id'] == exam_id)]['marks'].values[0] > threshold else 0 \n",
    "            list_data_y.append(y_val)\n",
    "    return np.asarray(list_data_x), np.asarray(list_data_y)\n",
    "#print(X.shape)\n",
    "#print(y.shape)"
   ]
  },
  {
   "cell_type": "code",
   "execution_count": 52,
   "id": "5f6e8794",
   "metadata": {},
   "outputs": [],
   "source": [
    "X, y = get_training_and_test_data()\n",
    "X_train, X_test, y_train, y_test = train_test_split(X, y, test_size=0.1, random_state=42)"
   ]
  },
  {
   "cell_type": "code",
   "execution_count": 53,
   "id": "98834d7f",
   "metadata": {},
   "outputs": [
    {
     "data": {
      "text/plain": [
       "(30, 35)"
      ]
     },
     "execution_count": 53,
     "metadata": {},
     "output_type": "execute_result"
    }
   ],
   "source": [
    "X.shape"
   ]
  },
  {
   "cell_type": "code",
   "execution_count": 54,
   "id": "2d175a52",
   "metadata": {},
   "outputs": [
    {
     "data": {
      "text/plain": [
       "(30,)"
      ]
     },
     "execution_count": 54,
     "metadata": {},
     "output_type": "execute_result"
    }
   ],
   "source": [
    "y.shape"
   ]
  },
  {
   "cell_type": "code",
   "execution_count": 55,
   "id": "03983e84",
   "metadata": {},
   "outputs": [
    {
     "data": {
      "text/plain": [
       "(array([0, 1, 0, 0, 0, 0, 0, 0, 0, 1, 0, 0, 0, 0, 1, 0, 0, 1, 0, 0, 0, 0,\n",
       "        1, 0, 0, 0, 0]),\n",
       " array([0, 0, 1]))"
      ]
     },
     "execution_count": 55,
     "metadata": {},
     "output_type": "execute_result"
    }
   ],
   "source": [
    "y_train,y_test"
   ]
  },
  {
   "cell_type": "code",
   "execution_count": 56,
   "id": "514daacc",
   "metadata": {},
   "outputs": [
    {
     "data": {
      "text/plain": [
       "((27, 35), (3, 35), (27,), (3,))"
      ]
     },
     "execution_count": 56,
     "metadata": {},
     "output_type": "execute_result"
    }
   ],
   "source": [
    "X_train.shape, X_test.shape, y_train.shape, y_test.shape"
   ]
  },
  {
   "cell_type": "markdown",
   "id": "07cd5a74",
   "metadata": {},
   "source": [
    "# Results and ROC"
   ]
  },
  {
   "cell_type": "code",
   "execution_count": 57,
   "id": "bff42591",
   "metadata": {},
   "outputs": [],
   "source": [
    "# deep learning\n",
    "from sklearn.linear_model import Perceptron\n",
    "per_clf = Perceptron(eta0=1.0,max_iter=1000,tol=1e-3, random_state=0)\n",
    "per_scores = cross_val_score(per_clf, X, y, cv=10)\n",
    "per_clf.fit(X_train, y_train)\n",
    "Perceptron()\n",
    "\n",
    "from sklearn.neural_network import MLPClassifier\n",
    "mlp_clf = MLPClassifier(solver='lbfgs', alpha=1e-5,hidden_layer_sizes=(5, 2), random_state=1)\n",
    "mlp_clf.fit(X_train, y_train)\n",
    "mlp_scores = cross_val_score(mlp_clf, X, y, cv=12)#9\n",
    "#mlp_clf.score(X, y)"
   ]
  },
  {
   "cell_type": "code",
   "execution_count": 58,
   "id": "aed2c692",
   "metadata": {},
   "outputs": [
    {
     "data": {
      "text/plain": [
       "(0.8333333333333333, 0.861111111111111)"
      ]
     },
     "execution_count": 58,
     "metadata": {},
     "output_type": "execute_result"
    }
   ],
   "source": [
    "per_scores.mean(), mlp_scores.mean()"
   ]
  },
  {
   "cell_type": "code",
   "execution_count": 59,
   "id": "e4787343",
   "metadata": {},
   "outputs": [],
   "source": [
    "# Run different experiments by importing classifiers and running different trainings\n",
    "svm_clf = svm.SVC(kernel='linear', C=1, random_state=42,probability=True)\n",
    "svm_clf.fit(X_train, y_train)\n",
    "svm_scores = cross_val_score(svm_clf, X_train, y_train, cv=10)#6-1\n",
    "\n",
    "#knn\n",
    "knn_clf = KNeighborsClassifier(n_neighbors=5)\n",
    "knn_clf.fit(X_train, y_train)\n",
    "knn_clf.score(X_test, y_test)\n",
    "knn_scores = cross_val_score(knn_clf, X_train, y_train, cv=10)\n",
    "\n",
    "#lR - acc .86,roc-.9,#2,15, marks-89\n",
    "reg = LogisticRegression()\n",
    "reg.fit(X_train, y_train)\n",
    "reg_scores = cross_val_score(reg, X_train, y_train, cv=9) #15,5,9(1)\n",
    "\n",
    "#DT\n",
    "dtc = DecisionTreeClassifier()\n",
    "dtc.fit(X_train,y_train)\n",
    "dtc_scores = cross_val_score(dtc, X_train, y_train, cv=5)\n",
    "\n",
    "#gnb\n",
    "from sklearn.naive_bayes import GaussianNB\n",
    "gnb = GaussianNB()\n",
    "gnb.fit(X_train, y_train)\n",
    "gnb_scores = cross_val_score(gnb, X_train, y_train, cv=5)\n",
    "\n",
    "#rf\n",
    "from sklearn.ensemble import RandomForestClassifier\n",
    "rfc = RandomForestClassifier()\n",
    "rfc.fit(X_train, y_train)\n",
    "rfc_scores = cross_val_score(rfc, X_train, y_train, cv=5)\n",
    "\n",
    "import warnings\n",
    "warnings.filterwarnings('ignore')"
   ]
  },
  {
   "cell_type": "code",
   "execution_count": 60,
   "id": "1c946cfc",
   "metadata": {},
   "outputs": [
    {
     "data": {
      "text/plain": [
       "(0.8,\n",
       " 0.8888888888888888,\n",
       " 0.8133333333333332,\n",
       " 0.8133333333333332,\n",
       " 0.8333333333333333)"
      ]
     },
     "execution_count": 60,
     "metadata": {},
     "output_type": "execute_result"
    }
   ],
   "source": [
    "# svm_clf, knn_clf, reg, dtc\n",
    "svm_scores.mean(), reg_scores.mean(), gnb_scores.mean(), rfc_scores.mean(), knn_scores.mean()"
   ]
  },
  {
   "cell_type": "code",
   "execution_count": 103,
   "id": "f49530a1",
   "metadata": {},
   "outputs": [
    {
     "data": {
      "image/png": "[encoded data removed]",
      "text/plain": [
       "<Figure size 576x396 with 1 Axes>"
      ]
     },
     "metadata": {},
     "output_type": "display_data"
    }
   ],
   "source": [
    "acc = [svm_scores.mean(), reg_scores.mean(), gnb_scores.mean(), rfc_scores.mean(), knn_scores.mean(), per_scores.mean(), mlp_scores.mean()]\n",
    "bars = ('SVM', 'LR', 'NB', 'RF', 'KNN', 'Perceptron', 'MLP')\n",
    "x_pos = np.arange(len(bars))\n",
    "\n",
    "# Create bars with different colors\n",
    "plt.bar(x_pos, acc, color=['chocolate', 'springgreen', 'mediumorchid', 'dodgerblue', 'tab:cyan','coral','limegreen'])\n",
    "\n",
    "# Create names on the x-axis\n",
    "plt.xticks(x_pos, bars)\n",
    "\n",
    "# Show graph\n",
    "plt.show()"
   ]
  },
  {
   "cell_type": "code",
   "execution_count": 82,
   "id": "587944ec",
   "metadata": {},
   "outputs": [
    {
     "name": "stdout",
     "output_type": "stream",
     "text": [
      "1.0 1.0 0.5 1.0\n"
     ]
    }
   ],
   "source": [
    "pred_prob1 = svm_clf.predict_proba(X_test)\n",
    "pred_prob2 = reg.predict_proba(X_test)\n",
    "pred_prob3 = per_clf._predict_proba_lr(X_test)\n",
    "pred_prob4 = mlp_clf.predict_proba(X_test)\n",
    "\n",
    "fpr1, tpr1, thresh1 = roc_curve(y_test, pred_prob1[:,1], pos_label=1)\n",
    "fpr2, tpr2, thresh2 = roc_curve(y_test, pred_prob2[:,1], pos_label=1)\n",
    "fpr3, tpr3, thresh3 = roc_curve(y_test, pred_prob3[:,1], pos_label=1)\n",
    "fpr4, tpr4, thresh4 = roc_curve(y_test, pred_prob4[:,1], pos_label=1)\n",
    "\n",
    "random_probs = [0 for i in range(len(y_test))]\n",
    "p_fpr, p_tpr, _ = roc_curve(y_test, random_probs, pos_label=1)\n",
    "\n",
    "from sklearn.metrics import roc_auc_score\n",
    "auc_score1 = roc_auc_score(y_test, pred_prob1[:,1])\n",
    "auc_score2 = roc_auc_score(y_test, pred_prob2[:,1])\n",
    "auc_score3 = roc_auc_score(y_test, pred_prob3[:,1])\n",
    "auc_score4 = roc_auc_score(y_test, pred_prob4[:,1])\n",
    "\n",
    "print(auc_score1, auc_score2, auc_score3, auc_score4)"
   ]
  },
  {
   "cell_type": "code",
   "execution_count": 77,
   "id": "3548681e",
   "metadata": {},
   "outputs": [
    {
     "data": {
      "image/png": "[encoded data removed]",
      "text/plain": [
       "<Figure size 576x396 with 1 Axes>"
      ]
     },
     "metadata": {},
     "output_type": "display_data"
    }
   ],
   "source": [
    "import matplotlib.pyplot as plt\n",
    "plt.style.use('seaborn')\n",
    "\n",
    "# plot roc curves\n",
    "plt.plot(fpr4, tpr4, linestyle='--',color='yellow', label='MLP')\n",
    "plt.plot(fpr3, tpr3, linestyle='--',color='red', label='Perceptron')\n",
    "plt.plot(p_fpr, p_tpr, linestyle='--', color='blue')\n",
    "# title\n",
    "plt.title('ROC curve')\n",
    "# x label\n",
    "plt.xlabel('False Positive Rate')\n",
    "# y label\n",
    "plt.ylabel('True Positive rate')\n",
    "\n",
    "plt.legend(loc='best')\n",
    "plt.savefig('ROC',dpi=300)\n",
    "plt.show();"
   ]
  },
  {
   "cell_type": "code",
   "execution_count": 78,
   "id": "a129a051",
   "metadata": {},
   "outputs": [
    {
     "data": {
      "image/png": "[encoded data removed]",
      "text/plain": [
       "<Figure size 576x396 with 1 Axes>"
      ]
     },
     "metadata": {},
     "output_type": "display_data"
    }
   ],
   "source": [
    "import matplotlib.pyplot as plt\n",
    "plt.style.use('seaborn')\n",
    "\n",
    "# plot roc curves\n",
    "plt.plot(fpr2, tpr2, linestyle='--',color='green', label='Logistic Regression')\n",
    "plt.plot(fpr1, tpr1, linestyle='--',color='cyan', label='SVM')\n",
    "plt.plot(p_fpr, p_tpr, linestyle='--', color='blue')\n",
    "# title\n",
    "plt.title('ROC curve')\n",
    "# x label\n",
    "plt.xlabel('False Positive Rate')\n",
    "# y label\n",
    "plt.ylabel('True Positive rate')\n",
    "\n",
    "plt.legend(loc='best')\n",
    "plt.savefig('ROC',dpi=300)\n",
    "plt.show();"
   ]
  },
  {
   "cell_type": "code",
   "execution_count": 707,
   "id": "e91acbee",
   "metadata": {},
   "outputs": [],
   "source": [
    "# One-time code to process labels raw txt to labels csv: can delete\n",
    "def process_labels_txt_save_csv():\n",
    "    file_path_y_raw = os.path.join(r'E:\\Research\\Capstone-smartwatch stress detector\\Dataset\\ds\\a-wearable-exam-stress-dataset-for-predicting-cognitive-performance-in-real-world-settings-1.0.0', r'StudentGrades.txt')\n",
    "    exam_ids = ['Midterm 1', 'Midterm 2', 'Final']\n",
    "    eid = -1\n",
    "    student_count = 0\n",
    "    dataframe_headers = ['student_id', 'exam_id', 'marks']\n",
    "    table_li = []\n",
    "    with open(file_path_y_raw, 'r') as fraw:\n",
    "        for line in fraw:\n",
    "            #print(line.strip())\n",
    "            if line.startswith('S'):\n",
    "                student_id, marks_str = line.split('–')\n",
    "                student_id = 'S' + str(int(student_id.strip()[1:]))\n",
    "                marks = int(marks_str.strip())\n",
    "                #print(f'{student_id}: {marks}')\n",
    "                if student_count % 10 == 0:\n",
    "                    eid += 1\n",
    "                student_count += 1\n",
    "                if eid == 2:\n",
    "                    marks = int(marks/2) # can remove int and process as all floats\n",
    "                li = [student_id, exam_ids[eid], marks]\n",
    "                table_li.append(li)\n",
    "                print(li)\n",
    "    labels_df = pd.DataFrame(table_li, columns=dataframe_headers)\n",
    "    labels_df.to_csv(r'E:\\Research\\Capstone-smartwatch stress detector\\Dataset\\ds\\a-wearable-exam-stress-dataset-for-predicting-cognitive-performance-in-real-world-settings-1.0.0\\StudentGrades.csv',index=False)"
   ]
  },
  {
   "cell_type": "code",
   "execution_count": 480,
   "id": "81a17f74",
   "metadata": {},
   "outputs": [],
   "source": [
    "#process_labels_txt_save_csv()"
   ]
  }
 ],
 "metadata": {
  "kernelspec": {
   "display_name": "Python 3 (ipykernel)",
   "language": "python",
   "name": "python3"
  },
  "language_info": {
   "codemirror_mode": {
    "name": "ipython",
    "version": 3
   },
   "file_extension": ".py",
   "mimetype": "text/x-python",
   "name": "python",
   "nbconvert_exporter": "python",
   "pygments_lexer": "ipython3",
   "version": "3.9.12"
  }
 },
 "nbformat": 4,
 "nbformat_minor": 5
}
